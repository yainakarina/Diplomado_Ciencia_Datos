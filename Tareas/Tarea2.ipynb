{
 "cells": [
  {
   "cell_type": "markdown",
   "id": "c65f6b1f-1734-4878-9dcf-8e5005331cd0",
   "metadata": {
    "tags": []
   },
   "source": [
    "# <span style=\"color:forestgreen;class:bold;font-size: 50px\"><center>**CIENCIA DE DATOS**</left></span>\n",
    "<figure>\n",
    "<center>\n",
    "<img src=\"\\Imagenes/LogoYainaKarina.PNG\" width=\"200\" height=\"200\" align=\"rigth\"/>\n",
    "</figure>"
   ]
  },
  {
   "cell_type": "markdown",
   "id": "41a1c15f-24db-4959-8ef4-97dc248a4687",
   "metadata": {
    "tags": []
   },
   "source": [
    "# <span style=\"color:mediumseagreen;class:bold;font-size: 30px\">**Autor**</left></span>\n",
    "<figure>\n",
    "<img src=\"\\Imagenes/Yaina.jpg\"  width=\"150\" height=\"150\" align=\"rigth\"/> \n",
    "</figure>\n",
    "Yaina Karina Muñoz Garces\n",
    "\n",
    "Tecnólogo en Sistemas, estudiante de octavo semestre de Ingeniería de Sistemas en la Universdad Nacional Abierta y a Distancia - UNAD.\n",
    "Experiencia de más de 15 años en análisis, diseño e implementación de Data Wareouse."
   ]
  },
  {
   "cell_type": "markdown",
   "id": "f8730509-fe2d-4404-b3f1-8ba27f999c1b",
   "metadata": {},
   "source": [
    "# <span style=\"color:mediumseagreen;class:bold;font-size: 30px\">**Concepto**</left></span>\n",
    "La **Ciencia de Datos** combina matemáticas y estadística, programación especializada, análisis avanzados, inteligencia artificial (IA) y machine learning con experiencia en distintas materias para descubrir información práctica oculta en los datos de una organización.\n",
    "\n",
    "En la Ciencia de datos se utilizan lenguajes de programación como Python y R Studio, para realizar análisis de datos exploratorios y regresión estadística.\n",
    "\n",
    "- **R Studio** un entorno y un lenguaje de programación de código abierto para desarrollar gráficos y computación estadística.\n",
    "- **Python** es un lenguaje de programación dinámico y flexible. Python incluye numerosas bibliotecas, como NumPy, Pandas o Matplotlib para analizar datos rápidamente.\n",
    "\n",
    "Operaciones matemáticas con Python:"
   ]
  },
  {
   "cell_type": "code",
   "execution_count": 19,
   "id": "36e9f44a-339d-4e6f-8561-de17bedec006",
   "metadata": {
    "tags": []
   },
   "outputs": [
    {
     "name": "stdout",
     "output_type": "stream",
     "text": [
      "Operaciones Matemáticas con los números  4 y 2\n",
      "La suma de los números es:  6\n",
      "La resta de los números es:  2\n",
      "La multiplicación de los números es:  8\n",
      "La división de los números es:  2.0\n"
     ]
    }
   ],
   "source": [
    "# Variables\n",
    "a = 4\n",
    "b = 2\n",
    "# Operaciones\n",
    "suma = a + b\n",
    "resta = a - b\n",
    "mult = a * b\n",
    "div = a / b\n",
    "# Impresión de resultados\n",
    "print(\"Operaciones Matemáticas con los números \", a , \"y\", b)\n",
    "print(\"La suma de los números es: \", suma)\n",
    "print(\"La resta de los números es: \", resta)\n",
    "print(\"La multiplicación de los números es: \", mult)\n",
    "print(\"La división de los números es: \", div)"
   ]
  },
  {
   "cell_type": "markdown",
   "id": "0ff0c6e5-205b-4726-85ef-7b5283a7df83",
   "metadata": {},
   "source": [
    "# <span style=\"color:mediumseagreen;class:bold;font-size: 30px\">**Referencias**</left></span>\n",
    "¿Que es la ciencia de datos?. [https://www.ibm.com/es-es/topics/data-science](https://www.ibm.com/es-es/topics/data-science)"
   ]
  }
 ],
 "metadata": {
  "kernelspec": {
   "display_name": "Python 3 (ipykernel)",
   "language": "python",
   "name": "python3"
  },
  "language_info": {
   "codemirror_mode": {
    "name": "ipython",
    "version": 3
   },
   "file_extension": ".py",
   "mimetype": "text/x-python",
   "name": "python",
   "nbconvert_exporter": "python",
   "pygments_lexer": "ipython3",
   "version": "3.11.4"
  }
 },
 "nbformat": 4,
 "nbformat_minor": 5
}
